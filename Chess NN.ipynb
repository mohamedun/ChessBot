{
 "cells": [
  {
   "cell_type": "code",
   "execution_count": 1,
   "metadata": {},
   "outputs": [],
   "source": [
    "#Goal is to create a neural network evaluate function. For now, this is simply a preditor of the which side will win"
   ]
  },
  {
   "cell_type": "code",
   "execution_count": 292,
   "metadata": {},
   "outputs": [],
   "source": [
    "import chess\n",
    "import pandas as pd\n",
    "games = pd.read_csv('Chess DS\\games.csv')"
   ]
  },
  {
   "cell_type": "code",
   "execution_count": 293,
   "metadata": {},
   "outputs": [],
   "source": [
    "def game_to_pos(game): \n",
    "    # function that takes a Series (given as a list of SAN whitespace separated moves) and outputs a list of pairs\n",
    "    board = chess.Board()\n",
    "    serial = []\n",
    "    winner_dict = {'white':1, 'draw':0, 'black':-1}\n",
    "    result = winner_dict[game['winner']]\n",
    "    after_ply = 0 \n",
    "    for move in game['moves'].split():\n",
    "        serial.append((board.copy(), result,after_ply)) \n",
    "        board.push_san(move)\n",
    "        after_ply += 1\n",
    "        \n",
    "    return pd.DataFrame(serial, columns =  ['board', 'result', 'ply'])"
   ]
  },
  {
   "cell_type": "code",
   "execution_count": 294,
   "metadata": {},
   "outputs": [
    {
     "name": "stdout",
     "output_type": "stream",
     "text": [
      "Wall time: 1min 16s\n"
     ]
    }
   ],
   "source": [
    "%%time\n",
    "mydataset = pd.concat([game_to_pos(row) for idx, row in games[:4000].iterrows()])"
   ]
  },
  {
   "cell_type": "code",
   "execution_count": 295,
   "metadata": {},
   "outputs": [
    {
     "data": {
      "text/plain": [
       "236207"
      ]
     },
     "execution_count": 295,
     "metadata": {},
     "output_type": "execute_result"
    }
   ],
   "source": [
    "len(mydataset)"
   ]
  },
  {
   "cell_type": "code",
   "execution_count": 296,
   "metadata": {},
   "outputs": [],
   "source": [
    "import tensorflow as tf\n",
    "import sklearn.model_selection\n",
    "import numpy as np"
   ]
  },
  {
   "cell_type": "code",
   "execution_count": 297,
   "metadata": {},
   "outputs": [],
   "source": [
    "mydataset.reset_index(drop = True, inplace = True)\n",
    "ply_filtered_set = mydataset[mydataset['ply']>15]\n",
    "train, test = sklearn.model_selection.train_test_split(ply_filtered_set, train_size = .9)"
   ]
  },
  {
   "cell_type": "code",
   "execution_count": 298,
   "metadata": {},
   "outputs": [
    {
     "data": {
      "text/plain": [
       "156371"
      ]
     },
     "execution_count": 298,
     "metadata": {},
     "output_type": "execute_result"
    }
   ],
   "source": [
    "len(train)"
   ]
  },
  {
   "cell_type": "code",
   "execution_count": 299,
   "metadata": {},
   "outputs": [],
   "source": [
    "#take board to 772 one-hot encoding\n",
    "def board_to_vector(board):\n",
    "    piece_types = [chess.KING, chess.QUEEN, chess.ROOK, chess.BISHOP, chess.KNIGHT, chess.PAWN]\n",
    "    colors  = [chess.WHITE, chess.BLACK]\n",
    "    fullvect = np.array([])\n",
    "    for piece_type in piece_types: \n",
    "        for color in colors: \n",
    "            a = np.zeros(64)\n",
    "            a[list(board.pieces(piece_type, color))] = 1\n",
    "            fullvect = np.append(fullvect,a)\n",
    "    castling =  np.array([bool(board.castling_rights & chess.BB_H1)*1, bool(board.castling_rights & chess.BB_H8)*1,\\\n",
    "                      bool(board.castling_rights & chess.BB_A1)*1, bool(board.castling_rights & chess.BB_A8)*1])\n",
    "    return np.append(fullvect, castling)"
   ]
  },
  {
   "cell_type": "code",
   "execution_count": 300,
   "metadata": {
    "scrolled": true
   },
   "outputs": [
    {
     "name": "stdout",
     "output_type": "stream",
     "text": [
      "Model: \"sequential_4\"\n",
      "_________________________________________________________________\n",
      "Layer (type)                 Output Shape              Param #   \n",
      "=================================================================\n",
      "dense_10 (Dense)             (None, 100)               77300     \n",
      "_________________________________________________________________\n",
      "dense_11 (Dense)             (None, 100)               10100     \n",
      "_________________________________________________________________\n",
      "dense_12 (Dense)             (None, 1)                 101       \n",
      "=================================================================\n",
      "Total params: 87,501\n",
      "Trainable params: 87,501\n",
      "Non-trainable params: 0\n",
      "_________________________________________________________________\n"
     ]
    }
   ],
   "source": [
    "model = tf.keras.Sequential([tf.keras.Input((772,)), tf.keras.layers.Dense(100), tf.keras.layers.Dense(100), \\\n",
    "                             tf.keras.layers.Dense(1)])\n",
    "model.summary()\n",
    "model.compile(loss = 'mean_squared_error', optimizer = 'adam')"
   ]
  },
  {
   "cell_type": "code",
   "execution_count": 301,
   "metadata": {},
   "outputs": [
    {
     "name": "stdout",
     "output_type": "stream",
     "text": [
      "Wall time: 43.1 s\n"
     ]
    }
   ],
   "source": [
    "%%time\n",
    "X = np.vstack(train['board'].apply(board_to_vector))\n",
    "Y = train['result'].to_numpy()"
   ]
  },
  {
   "cell_type": "code",
   "execution_count": 303,
   "metadata": {},
   "outputs": [
    {
     "name": "stdout",
     "output_type": "stream",
     "text": [
      "Epoch 1/5\n",
      "4887/4887 [==============================] - 8s 2ms/step - loss: 0.7053\n",
      "Epoch 2/5\n",
      "4887/4887 [==============================] - 9s 2ms/step - loss: 0.7046\n",
      "Epoch 3/5\n",
      "4887/4887 [==============================] - 8s 2ms/step - loss: 0.7037\n",
      "Epoch 4/5\n",
      "4887/4887 [==============================] - 8s 2ms/step - loss: 0.7031\n",
      "Epoch 5/5\n",
      "4887/4887 [==============================] - 8s 2ms/step - loss: 0.7024\n",
      "Wall time: 42.7 s\n"
     ]
    },
    {
     "data": {
      "text/plain": [
       "<tensorflow.python.keras.callbacks.History at 0x2a6babbe518>"
      ]
     },
     "execution_count": 303,
     "metadata": {},
     "output_type": "execute_result"
    }
   ],
   "source": [
    "%%time\n",
    "model.fit(x = X, y = Y, epochs =5)"
   ]
  },
  {
   "cell_type": "code",
   "execution_count": 315,
   "metadata": {},
   "outputs": [
    {
     "name": "stdout",
     "output_type": "stream",
     "text": [
      "Wall time: 79.8 ms\n"
     ]
    },
    {
     "data": {
      "text/plain": [
       "0.13249034"
      ]
     },
     "execution_count": 315,
     "metadata": {},
     "output_type": "execute_result"
    }
   ],
   "source": [
    "%%time\n",
    "model.predict(np.array(\\\n",
    "    [ board_to_vector(chess.Board(fen = 'rn1qkbnr/pppbpppp/8/3P4/2P5/8/PP1P1PPP/RNBQKBNR w KQkq - 0 1'))]))[0][0]\n"
   ]
  },
  {
   "cell_type": "code",
   "execution_count": 305,
   "metadata": {},
   "outputs": [],
   "source": [
    "mydataset.to_pickle('mydataset')"
   ]
  },
  {
   "cell_type": "code",
   "execution_count": 307,
   "metadata": {},
   "outputs": [],
   "source": [
    "np.save('one_hot_train', X)"
   ]
  },
  {
   "cell_type": "code",
   "execution_count": 309,
   "metadata": {},
   "outputs": [
    {
     "name": "stdout",
     "output_type": "stream",
     "text": [
      "WARNING:tensorflow:From c:\\users\\mohamed\\appdata\\local\\programs\\python\\python37\\lib\\site-packages\\tensorflow\\python\\training\\tracking\\tracking.py:111: Model.state_updates (from tensorflow.python.keras.engine.training) is deprecated and will be removed in a future version.\n",
      "Instructions for updating:\n",
      "This property should not be used in TensorFlow 2.0, as updates are applied automatically.\n",
      "WARNING:tensorflow:From c:\\users\\mohamed\\appdata\\local\\programs\\python\\python37\\lib\\site-packages\\tensorflow\\python\\training\\tracking\\tracking.py:111: Layer.updates (from tensorflow.python.keras.engine.base_layer) is deprecated and will be removed in a future version.\n",
      "Instructions for updating:\n",
      "This property should not be used in TensorFlow 2.0, as updates are applied automatically.\n",
      "INFO:tensorflow:Assets written to: model1\\assets\n"
     ]
    }
   ],
   "source": [
    "model.save('model1')"
   ]
  },
  {
   "cell_type": "code",
   "execution_count": 316,
   "metadata": {},
   "outputs": [
    {
     "data": {
      "text/plain": [
       "9"
      ]
     },
     "execution_count": 316,
     "metadata": {},
     "output_type": "execute_result"
    }
   ],
   "source": [
    "9"
   ]
  },
  {
   "cell_type": "code",
   "execution_count": null,
   "metadata": {},
   "outputs": [],
   "source": []
  }
 ],
 "metadata": {
  "kernelspec": {
   "display_name": "Python 3",
   "language": "python",
   "name": "python3"
  },
  "language_info": {
   "codemirror_mode": {
    "name": "ipython",
    "version": 3
   },
   "file_extension": ".py",
   "mimetype": "text/x-python",
   "name": "python",
   "nbconvert_exporter": "python",
   "pygments_lexer": "ipython3",
   "version": "3.7.3"
  }
 },
 "nbformat": 4,
 "nbformat_minor": 4
}
